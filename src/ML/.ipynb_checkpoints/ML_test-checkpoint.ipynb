{
 "cells": [
  {
   "cell_type": "code",
   "execution_count": 1,
   "id": "57195f70-a9ff-4441-bc9f-b0ca39efa032",
   "metadata": {},
   "outputs": [
    {
     "name": "stdout",
     "output_type": "stream",
     "text": [
      "[NbConvertApp] Converting notebook ML_API.ipynb to script\n",
      "[NbConvertApp] Writing 5167 bytes to ML_API.py\n",
      "No Nvidia GPU in system!\n",
      "GPU available!\n",
      "     sepal length (cm)  sepal width (cm)  petal length (cm)  petal width (cm)  \\\n",
      "0                  5.1               3.5                1.4               0.2   \n",
      "1                  4.9               3.0                1.4               0.2   \n",
      "2                  4.7               3.2                1.3               0.2   \n",
      "3                  4.6               3.1                1.5               0.2   \n",
      "4                  5.0               3.6                1.4               0.2   \n",
      "..                 ...               ...                ...               ...   \n",
      "145                6.7               3.0                5.2               2.3   \n",
      "146                6.3               2.5                5.0               1.9   \n",
      "147                6.5               3.0                5.2               2.0   \n",
      "148                6.2               3.4                5.4               2.3   \n",
      "149                5.9               3.0                5.1               1.8   \n",
      "\n",
      "     target  \n",
      "0       0.0  \n",
      "1       0.0  \n",
      "2       0.0  \n",
      "3       0.0  \n",
      "4       0.0  \n",
      "..      ...  \n",
      "145     2.0  \n",
      "146     2.0  \n",
      "147     2.0  \n",
      "148     2.0  \n",
      "149     2.0  \n",
      "\n",
      "[150 rows x 5 columns]\n",
      "Model Accuracy: 1.0\n",
      "LogisticRegression(max_iter=700)\n",
      "Model Accuracy: 0.9487283360348983\n",
      "LinearRegression()\n",
      "Decision Tree Model Accuracy: 1.0\n",
      "DecisionTreeClassifier(random_state=42)\n"
     ]
    }
   ],
   "source": [
    "from ML_API import MLAPI\n",
    "api = MLAPI()\n",
    "api.set_local_csv_dataset()\n",
    "print(api.dataset)\n",
    "\n",
    "\n",
    "print(api.logistic_regression('target', max_epochs=700))\n",
    "print(api.linear_regression('target', max_epochs=700))\n",
    "print(api.decision_tree('target', max_epochs=700))"
   ]
  },
  {
   "cell_type": "code",
   "execution_count": null,
   "id": "92c4dde4-b631-4cf6-979b-ecaa2ab1837f",
   "metadata": {},
   "outputs": [],
   "source": [
    "api.set_local_csv_dataset(\"top_rated_9000_movies_on_TMDB.csv\")\n",
    "print(api.dataset)"
   ]
  },
  {
   "cell_type": "code",
   "execution_count": null,
   "id": "4709ca2f-145b-413e-bf94-091d52653157",
   "metadata": {},
   "outputs": [],
   "source": [
    "# print(api.logistic_regression('popularity', max_epochs=700))\n",
    "print(api.linear_regression('popularity', max_epochs=10))\n",
    "print(api.decision_tree('popularity', max_epochs=10))"
   ]
  },
  {
   "cell_type": "code",
   "execution_count": null,
   "id": "90b15683-49c4-48b2-bbb5-a8580ddc4840",
   "metadata": {},
   "outputs": [],
   "source": [
    "import pandas as pd\n",
    "pd.read_csv(\"Worlds Best 50 Hotels.csv\", encoding='latin-1')"
   ]
  },
  {
   "cell_type": "code",
   "execution_count": 3,
   "id": "7530bc78-e1c4-46d8-9d45-31315f70e68d",
   "metadata": {},
   "outputs": [
    {
     "name": "stdout",
     "output_type": "stream",
     "text": [
      "[NbConvertApp] Converting notebook ML_test.ipynb to script\n",
      "[NbConvertApp] Writing 398 bytes to ML_test.py\n"
     ]
    }
   ],
   "source": [
    "!jupyter nbconvert --to script 'ML_test.ipynb'"
   ]
  },
  {
   "cell_type": "code",
   "execution_count": null,
   "id": "b988d592-22bb-43d0-8cd4-05e36457e5d4",
   "metadata": {},
   "outputs": [],
   "source": []
  }
 ],
 "metadata": {
  "kernelspec": {
   "display_name": "Python 3 (ipykernel)",
   "language": "python",
   "name": "python3"
  },
  "language_info": {
   "codemirror_mode": {
    "name": "ipython",
    "version": 3
   },
   "file_extension": ".py",
   "mimetype": "text/x-python",
   "name": "python",
   "nbconvert_exporter": "python",
   "pygments_lexer": "ipython3",
   "version": "3.11.7"
  }
 },
 "nbformat": 4,
 "nbformat_minor": 5
}
