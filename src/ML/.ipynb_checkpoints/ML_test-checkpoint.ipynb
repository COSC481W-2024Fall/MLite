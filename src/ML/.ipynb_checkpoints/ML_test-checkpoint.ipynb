{
 "cells": [
  {
   "cell_type": "code",
   "execution_count": 1,
   "id": "0f9e38a9-ba9b-44d2-be24-fbe6e32bad4f",
   "metadata": {},
   "outputs": [
    {
     "name": "stdout",
     "output_type": "stream",
     "text": [
      "[NbConvertApp] Converting notebook ML_API.ipynb to script\n",
      "[NbConvertApp] Writing 16045 bytes to ML_API.py\n"
     ]
    }
   ],
   "source": [
    "import import_ipynb\n",
    "\n",
    "import ML_API\n",
    "\n",
    "from ML_API import MLAPI\n",
    "import pandas as pd"
   ]
  },
  {
   "cell_type": "code",
   "execution_count": 2,
   "id": "fbafbdb4-4e0e-4e79-a962-73511fbed122",
   "metadata": {},
   "outputs": [
    {
     "name": "stdout",
     "output_type": "stream",
     "text": [
      "No Nvidia GPU in system!\n",
      "GPU available!\n",
      "Invalid file path or buffer object type: <class 'NoneType'>\n",
      "     sepal length (cm)  sepal width (cm)  petal length (cm)  petal width (cm)  \\\n",
      "0                  5.1               3.5                1.4               0.2   \n",
      "1                  4.9               3.0                1.4               0.2   \n",
      "2                  4.7               3.2                1.3               0.2   \n",
      "3                  4.6               3.1                1.5               0.2   \n",
      "4                  5.0               3.6                1.4               0.2   \n",
      "..                 ...               ...                ...               ...   \n",
      "145                6.7               3.0                5.2               2.3   \n",
      "146                6.3               2.5                5.0               1.9   \n",
      "147                6.5               3.0                5.2               2.0   \n",
      "148                6.2               3.4                5.4               2.3   \n",
      "149                5.9               3.0                5.1               1.8   \n",
      "\n",
      "     target  \n",
      "0       0.0  \n",
      "1       0.0  \n",
      "2       0.0  \n",
      "3       0.0  \n",
      "4       0.0  \n",
      "..      ...  \n",
      "145     2.0  \n",
      "146     2.0  \n",
      "147     2.0  \n",
      "148     2.0  \n",
      "149     2.0  \n",
      "\n",
      "[150 rows x 5 columns]\n"
     ]
    }
   ],
   "source": [
    "api = MLAPI()\n",
    "api.set_local_csv_dataset()\n",
    "print(api.dataset)"
   ]
  },
  {
   "cell_type": "code",
   "execution_count": 4,
   "id": "1a5c7d4e-4e2a-41cf-8084-80809dcc72a3",
   "metadata": {},
   "outputs": [
    {
     "name": "stdout",
     "output_type": "stream",
     "text": [
      "encoding categorical data\n",
      "Columns: \n",
      "Target variable not in encoding columns.\n",
      "     sepal length (cm)  sepal width (cm)  petal length (cm)  petal width (cm)  \\\n",
      "0                  5.1               3.5                1.4               0.2   \n",
      "1                  4.9               3.0                1.4               0.2   \n",
      "2                  4.7               3.2                1.3               0.2   \n",
      "3                  4.6               3.1                1.5               0.2   \n",
      "4                  5.0               3.6                1.4               0.2   \n",
      "..                 ...               ...                ...               ...   \n",
      "145                6.7               3.0                5.2               2.3   \n",
      "146                6.3               2.5                5.0               1.9   \n",
      "147                6.5               3.0                5.2               2.0   \n",
      "148                6.2               3.4                5.4               2.3   \n",
      "149                5.9               3.0                5.1               1.8   \n",
      "\n",
      "     target  \n",
      "0       0.0  \n",
      "1       0.0  \n",
      "2       0.0  \n",
      "3       0.0  \n",
      "4       0.0  \n",
      "..      ...  \n",
      "145     2.0  \n",
      "146     2.0  \n",
      "147     2.0  \n",
      "148     2.0  \n",
      "149     2.0  \n",
      "\n",
      "[150 rows x 5 columns]\n",
      "[]\n",
      "encoding categorical data\n",
      "Columns: \n",
      "Target variable not in encoding columns.\n",
      "     sepal width (cm)  petal length (cm)  petal width (cm)  target  \\\n",
      "0                 3.5                1.4               0.2     0.0   \n",
      "1                 3.0                1.4               0.2     0.0   \n",
      "2                 3.2                1.3               0.2     0.0   \n",
      "3                 3.1                1.5               0.2     0.0   \n",
      "4                 3.6                1.4               0.2     0.0   \n",
      "..                ...                ...               ...     ...   \n",
      "145               3.0                5.2               2.3     2.0   \n",
      "146               2.5                5.0               1.9     2.0   \n",
      "147               3.0                5.2               2.0     2.0   \n",
      "148               3.4                5.4               2.3     2.0   \n",
      "149               3.0                5.1               1.8     2.0   \n",
      "\n",
      "     sepal length (cm)_4.3  sepal length (cm)_4.4  sepal length (cm)_4.5  \\\n",
      "0                    False                  False                  False   \n",
      "1                    False                  False                  False   \n",
      "2                    False                  False                  False   \n",
      "3                    False                  False                  False   \n",
      "4                    False                  False                  False   \n",
      "..                     ...                    ...                    ...   \n",
      "145                  False                  False                  False   \n",
      "146                  False                  False                  False   \n",
      "147                  False                  False                  False   \n",
      "148                  False                  False                  False   \n",
      "149                  False                  False                  False   \n",
      "\n",
      "     sepal length (cm)_4.6  sepal length (cm)_4.7  sepal length (cm)_4.8  ...  \\\n",
      "0                    False                  False                  False  ...   \n",
      "1                    False                  False                  False  ...   \n",
      "2                    False                   True                  False  ...   \n",
      "3                     True                  False                  False  ...   \n",
      "4                    False                  False                  False  ...   \n",
      "..                     ...                    ...                    ...  ...   \n",
      "145                  False                  False                  False  ...   \n",
      "146                  False                  False                  False  ...   \n",
      "147                  False                  False                  False  ...   \n",
      "148                  False                  False                  False  ...   \n",
      "149                  False                  False                  False  ...   \n",
      "\n",
      "     sepal length (cm)_6.8  sepal length (cm)_6.9  sepal length (cm)_7.0  \\\n",
      "0                    False                  False                  False   \n",
      "1                    False                  False                  False   \n",
      "2                    False                  False                  False   \n",
      "3                    False                  False                  False   \n",
      "4                    False                  False                  False   \n",
      "..                     ...                    ...                    ...   \n",
      "145                  False                  False                  False   \n",
      "146                  False                  False                  False   \n",
      "147                  False                  False                  False   \n",
      "148                  False                  False                  False   \n",
      "149                  False                  False                  False   \n",
      "\n",
      "     sepal length (cm)_7.1  sepal length (cm)_7.2  sepal length (cm)_7.3  \\\n",
      "0                    False                  False                  False   \n",
      "1                    False                  False                  False   \n",
      "2                    False                  False                  False   \n",
      "3                    False                  False                  False   \n",
      "4                    False                  False                  False   \n",
      "..                     ...                    ...                    ...   \n",
      "145                  False                  False                  False   \n",
      "146                  False                  False                  False   \n",
      "147                  False                  False                  False   \n",
      "148                  False                  False                  False   \n",
      "149                  False                  False                  False   \n",
      "\n",
      "     sepal length (cm)_7.4  sepal length (cm)_7.6  sepal length (cm)_7.7  \\\n",
      "0                    False                  False                  False   \n",
      "1                    False                  False                  False   \n",
      "2                    False                  False                  False   \n",
      "3                    False                  False                  False   \n",
      "4                    False                  False                  False   \n",
      "..                     ...                    ...                    ...   \n",
      "145                  False                  False                  False   \n",
      "146                  False                  False                  False   \n",
      "147                  False                  False                  False   \n",
      "148                  False                  False                  False   \n",
      "149                  False                  False                  False   \n",
      "\n",
      "     sepal length (cm)_7.9  \n",
      "0                    False  \n",
      "1                    False  \n",
      "2                    False  \n",
      "3                    False  \n",
      "4                    False  \n",
      "..                     ...  \n",
      "145                  False  \n",
      "146                  False  \n",
      "147                  False  \n",
      "148                  False  \n",
      "149                  False  \n",
      "\n",
      "[150 rows x 39 columns]\n",
      "['sepal length (cm)_4.3', 'sepal length (cm)_4.4', 'sepal length (cm)_4.5', 'sepal length (cm)_4.6', 'sepal length (cm)_4.7', 'sepal length (cm)_4.8', 'sepal length (cm)_4.9', 'sepal length (cm)_5.0', 'sepal length (cm)_5.1', 'sepal length (cm)_5.2', 'sepal length (cm)_5.3', 'sepal length (cm)_5.4', 'sepal length (cm)_5.5', 'sepal length (cm)_5.6', 'sepal length (cm)_5.7', 'sepal length (cm)_5.8', 'sepal length (cm)_5.9', 'sepal length (cm)_6.0', 'sepal length (cm)_6.1', 'sepal length (cm)_6.2', 'sepal length (cm)_6.3', 'sepal length (cm)_6.4', 'sepal length (cm)_6.5', 'sepal length (cm)_6.6', 'sepal length (cm)_6.7', 'sepal length (cm)_6.8', 'sepal length (cm)_6.9', 'sepal length (cm)_7.0', 'sepal length (cm)_7.1', 'sepal length (cm)_7.2', 'sepal length (cm)_7.3', 'sepal length (cm)_7.4', 'sepal length (cm)_7.6', 'sepal length (cm)_7.7', 'sepal length (cm)_7.9']\n"
     ]
    }
   ],
   "source": [
    "one_hot_df, new_columns = api.one_hot_encode(inplace=False, ignore_target=True, target=\"target\")\n",
    "print(one_hot_df)\n",
    "print(new_columns)\n",
    "one_hot_df, new_columns = api.one_hot_encode(inplace=False, columns=[\"sepal length (cm)\"], ignore_target=True, target=\"target\")\n",
    "print(one_hot_df)\n",
    "print(new_columns)"
   ]
  },
  {
   "cell_type": "code",
   "execution_count": 3,
   "id": "3bde39a0-f445-4c74-8935-405481f87654",
   "metadata": {},
   "outputs": [
    {
     "name": "stdout",
     "output_type": "stream",
     "text": [
      "RUNNING THE L-BFGS-B CODE\n",
      "\n",
      "           * * *\n",
      "\n",
      "Machine precision = 2.220D-16\n",
      " N =           15     M =           10\n",
      "\n",
      "At X0         0 variables are exactly at the bounds\n",
      "\n",
      "At iterate    0    f=  1.23045D+02    |proj g|=  9.10333D+01\n",
      "\n",
      "At iterate   50    f=  2.60755D+01    |proj g|=  1.86785D+00\n",
      "\n",
      "At iterate  100    f=  2.51164D+01    |proj g|=  3.91889D-03\n",
      "\n",
      "           * * *\n",
      "\n",
      "Tit   = total number of iterations\n",
      "Tnf   = total number of function evaluations\n",
      "Tnint = total number of segments explored during Cauchy searches\n",
      "Skip  = number of BFGS updates skipped\n",
      "Nact  = number of active bounds at final generalized Cauchy point\n",
      "Projg = norm of the final projected gradient\n",
      "F     = final function value\n",
      "\n",
      "           * * *\n",
      "\n",
      "   N    Tit     Tnf  Tnint  Skip  Nact     Projg        F\n",
      "   15    103    120      1     0     0   1.085D-03   2.512D+01\n",
      "  F =   25.116369829209422     \n",
      "\n",
      "CONVERGENCE: REL_REDUCTION_OF_F_<=_FACTR*EPSMCH             \n",
      "Model Accuracy: 1.0\n",
      "LogisticRegression(max_iter=700, verbose=1)\n",
      "Model Accuracy: 0.9487283360348983\n",
      "LinearRegression()\n",
      "Model Accuracy: 1.0\n",
      "DecisionTreeClassifier(random_state=42)\n"
     ]
    },
    {
     "name": "stderr",
     "output_type": "stream",
     "text": [
      "[Parallel(n_jobs=1)]: Using backend SequentialBackend with 1 concurrent workers.\n",
      " This problem is unconstrained.\n",
      "[Parallel(n_jobs=1)]: Done   1 out of   1 | elapsed:    0.0s finished\n"
     ]
    }
   ],
   "source": [
    "print(api.logistic_regression('target', max_epochs=700))\n",
    "print(api.linear_regression('target', max_epochs=700))\n",
    "print(api.decision_tree('target', max_epochs=700))"
   ]
  },
  {
   "cell_type": "code",
   "execution_count": 4,
   "id": "90c7e8fd-7e8d-4f17-a119-5ac130b53f31",
   "metadata": {},
   "outputs": [
    {
     "name": "stdout",
     "output_type": "stream",
     "text": [
      "     sepal length (cm)  sepal width (cm)  petal length (cm)  petal width (cm)  \\\n",
      "0                  5.1               3.5                1.4               0.2   \n",
      "1                  4.9               3.0                1.4               0.2   \n",
      "2                  4.7               3.2                1.3               0.2   \n",
      "3                  4.6               3.1                1.5               0.2   \n",
      "4                  5.0               3.6                1.4               0.2   \n",
      "..                 ...               ...                ...               ...   \n",
      "145                6.7               3.0                5.2               2.3   \n",
      "146                6.3               2.5                5.0               1.9   \n",
      "147                6.5               3.0                5.2               2.0   \n",
      "148                6.2               3.4                5.4               2.3   \n",
      "149                5.9               3.0                5.1               1.8   \n",
      "\n",
      "     target  \n",
      "0       0.0  \n",
      "1       0.0  \n",
      "2       0.0  \n",
      "3       0.0  \n",
      "4       0.0  \n",
      "..      ...  \n",
      "145     2.0  \n",
      "146     2.0  \n",
      "147     2.0  \n",
      "148     2.0  \n",
      "149     2.0  \n",
      "\n",
      "[150 rows x 5 columns]\n",
      "[0. 0. 0. 0. 0. 0. 0. 0. 0. 0. 0. 0. 0. 0. 0. 0. 0. 0. 0. 0. 0. 0. 0. 0.\n",
      " 0. 0. 0. 0. 0. 0. 0. 0. 0. 0. 0. 0. 0. 0. 0. 0. 0. 0. 0. 0. 0. 0. 0. 0.\n",
      " 0. 0. 1. 1. 1. 1. 1. 1. 1. 1. 1. 1. 1. 1. 1. 1. 1. 1. 1. 1. 1. 1. 1. 1.\n",
      " 1. 1. 1. 1. 1. 1. 1. 1. 1. 1. 1. 1. 1. 1. 1. 1. 1. 1. 1. 1. 1. 1. 1. 1.\n",
      " 1. 1. 1. 1. 2. 2. 2. 2. 2. 2. 2. 2. 2. 2. 2. 2. 2. 2. 2. 2. 2. 2. 2. 2.\n",
      " 2. 2. 2. 2. 2. 2. 2. 2. 2. 2. 2. 2. 2. 2. 2. 2. 2. 2. 2. 2. 2. 2. 2. 2.\n",
      " 2. 2. 2. 2. 2. 2.] [0.93294409 0.89635805 0.85977201 0.84147899 0.91465107 0.98782316\n",
      " 0.84147899 0.91465107 0.80489294 0.89635805 0.98782316 0.87806503\n",
      " 0.87806503 0.78659992 1.06099524 1.04270222 0.98782316 0.93294409\n",
      " 1.04270222 0.93294409 0.98782316 0.93294409 0.84147899 0.93294409\n",
      " 0.87806503 0.91465107 0.91465107 0.95123711 0.95123711 0.85977201\n",
      " 0.87806503 0.98782316 0.95123711 1.00611618 0.89635805 0.91465107\n",
      " 1.00611618 0.89635805 0.80489294 0.93294409 0.91465107 0.82318596\n",
      " 0.80489294 0.91465107 0.93294409 0.87806503 0.93294409 0.84147899\n",
      " 0.96953014 0.91465107 1.2805115  1.17075337 1.26221848 1.00611618\n",
      " 1.18904639 1.04270222 1.15246035 0.89635805 1.20733941 0.95123711\n",
      " 0.91465107 1.07928826 1.09758129 1.11587431 1.0244092  1.22563244\n",
      " 1.0244092  1.06099524 1.13416733 1.0244092  1.07928826 1.11587431\n",
      " 1.15246035 1.11587431 1.17075337 1.20733941 1.24392546 1.22563244\n",
      " 1.09758129 1.04270222 1.00611618 1.00611618 1.06099524 1.09758129\n",
      " 0.98782316 1.09758129 1.22563244 1.15246035 1.0244092  1.00611618\n",
      " 1.00611618 1.11587431 1.06099524 0.91465107 1.0244092  1.04270222\n",
      " 1.04270222 1.13416733 0.93294409 1.04270222 1.15246035 1.06099524\n",
      " 1.29880452 1.15246035 1.18904639 1.39026963 0.89635805 1.33539056\n",
      " 1.22563244 1.31709754 1.18904639 1.17075337 1.24392546 1.04270222\n",
      " 1.06099524 1.17075337 1.18904639 1.40856265 1.40856265 1.09758129\n",
      " 1.26221848 1.0244092  1.40856265 1.15246035 1.22563244 1.31709754\n",
      " 1.13416733 1.11587431 1.17075337 1.31709754 1.35368359 1.44514869\n",
      " 1.17075337 1.15246035 1.11587431 1.40856265 1.15246035 1.17075337\n",
      " 1.09758129 1.26221848 1.22563244 1.26221848 1.06099524 1.24392546\n",
      " 1.22563244 1.22563244 1.15246035 1.18904639 1.13416733 1.07928826]\n",
      "SVM: High-dimensional data with fewer entries, aiming for higher accuracy.\n"
     ]
    }
   ],
   "source": [
    "print(api.dataset)\n",
    "print(api.recommed_model(['target'], ['sepal length (cm)']))"
   ]
  },
  {
   "cell_type": "code",
   "execution_count": 5,
   "id": "92c4dde4-b631-4cf6-979b-ecaa2ab1837f",
   "metadata": {},
   "outputs": [
    {
     "name": "stdout",
     "output_type": "stream",
     "text": [
      "No Nvidia GPU in system!\n",
      "GPU available!\n",
      "      User ID  Gender  Age  EstimatedSalary  Purchased\n",
      "0    15624510    Male   19            19000          0\n",
      "1    15810944    Male   35            20000          0\n",
      "2    15668575  Female   26            43000          0\n",
      "3    15603246  Female   27            57000          0\n",
      "4    15804002    Male   19            76000          0\n",
      "..        ...     ...  ...              ...        ...\n",
      "395  15691863  Female   46            41000          1\n",
      "396  15706071    Male   51            23000          1\n",
      "397  15654296  Female   50            20000          1\n",
      "398  15755018    Male   36            33000          0\n",
      "399  15594041  Female   49            36000          1\n",
      "\n",
      "[400 rows x 5 columns]\n",
      "[LibSVM]*\n",
      "optimization finished, #iter = 175\n",
      "obj = -71.972620, rho = 0.272740\n",
      "nSV = 86, nBSV = 71\n",
      "Total nSV = 86\n",
      "Model Accuracy: 0.93\n"
     ]
    }
   ],
   "source": [
    "api = MLAPI()\n",
    "api.set_local_csv_dataset(\"social_network\")\n",
    "print(api.dataset)\n",
    "svm = api.svm(\"Purchased\", columns=[\"Age\", \"EstimatedSalary\"])"
   ]
  },
  {
   "cell_type": "code",
   "execution_count": 6,
   "id": "609e1af1-117b-4ac6-bce2-1e2835fdc0e2",
   "metadata": {},
   "outputs": [
    {
     "name": "stdout",
     "output_type": "stream",
     "text": [
      "Model Accuracy: 0.7545473390039508\n",
      "Model Accuracy: 0.95\n"
     ]
    },
    {
     "name": "stderr",
     "output_type": "stream",
     "text": [
      "/opt/anaconda3/lib/python3.11/site-packages/sklearn/neural_network/_multilayer_perceptron.py:686: ConvergenceWarning: Stochastic Optimizer: Maximum iterations (300) reached and the optimization hasn't converged yet.\n",
      "  warnings.warn(\n"
     ]
    }
   ],
   "source": [
    "mlpr = api.mlpRegressor(\"Purchased\", columns=[\"Age\", \"EstimatedSalary\"])\n",
    "mlpr = api.mlpClassifier(\"Purchased\", columns=[\"Age\", \"EstimatedSalary\"])"
   ]
  },
  {
   "cell_type": "code",
   "execution_count": 7,
   "id": "8d4abbe8-7683-4eaf-9b1f-0da7ed1de76e",
   "metadata": {},
   "outputs": [],
   "source": [
    "# dataset = \"../Data/archive 2/Iris.csv\"\n",
    "# pd.read_csv(dataset)\n",
    "# api.set_local_csv_dataset(dataset=dataset, concat=True)"
   ]
  },
  {
   "cell_type": "code",
   "execution_count": 8,
   "id": "15b126b0-0e51-4073-9b8f-8396e7471501",
   "metadata": {},
   "outputs": [
    {
     "name": "stdout",
     "output_type": "stream",
     "text": [
      "SVC(random_state=42, verbose=1)\n"
     ]
    }
   ],
   "source": [
    "print(svm)"
   ]
  },
  {
   "cell_type": "code",
   "execution_count": 9,
   "id": "ba328b48-eb1e-4d52-b575-e8376cbc03c7",
   "metadata": {},
   "outputs": [],
   "source": [
    "import pickle as pkl\n",
    "pkl.dump(svm, open(\"svm.pkl\", 'wb'))"
   ]
  },
  {
   "cell_type": "code",
   "execution_count": 10,
   "id": "140ad41f-0542-4165-bbea-5472962da2e0",
   "metadata": {},
   "outputs": [],
   "source": [
    "# print(api.decision_tree('Species', max_epochs=10))"
   ]
  },
  {
   "cell_type": "code",
   "execution_count": 11,
   "id": "d2bec614-523b-4f3a-b21d-2129999169fb",
   "metadata": {},
   "outputs": [
    {
     "name": "stdout",
     "output_type": "stream",
     "text": [
      "encoding categorical data\n",
      "Columns: \n",
      "'Index' object has no attribute 'remove'\n"
     ]
    },
    {
     "ename": "KeyError",
     "evalue": "'Species'",
     "output_type": "error",
     "traceback": [
      "\u001b[0;31m---------------------------------------------------------------------------\u001b[0m",
      "\u001b[0;31mKeyError\u001b[0m                                  Traceback (most recent call last)",
      "File \u001b[0;32m/opt/anaconda3/lib/python3.11/site-packages/pandas/core/indexes/base.py:3805\u001b[0m, in \u001b[0;36mIndex.get_loc\u001b[0;34m(self, key)\u001b[0m\n\u001b[1;32m   3804\u001b[0m \u001b[38;5;28;01mtry\u001b[39;00m:\n\u001b[0;32m-> 3805\u001b[0m     \u001b[38;5;28;01mreturn\u001b[39;00m \u001b[38;5;28mself\u001b[39m\u001b[38;5;241m.\u001b[39m_engine\u001b[38;5;241m.\u001b[39mget_loc(casted_key)\n\u001b[1;32m   3806\u001b[0m \u001b[38;5;28;01mexcept\u001b[39;00m \u001b[38;5;167;01mKeyError\u001b[39;00m \u001b[38;5;28;01mas\u001b[39;00m err:\n",
      "File \u001b[0;32mindex.pyx:167\u001b[0m, in \u001b[0;36mpandas._libs.index.IndexEngine.get_loc\u001b[0;34m()\u001b[0m\n",
      "File \u001b[0;32mindex.pyx:196\u001b[0m, in \u001b[0;36mpandas._libs.index.IndexEngine.get_loc\u001b[0;34m()\u001b[0m\n",
      "File \u001b[0;32mpandas/_libs/hashtable_class_helper.pxi:7081\u001b[0m, in \u001b[0;36mpandas._libs.hashtable.PyObjectHashTable.get_item\u001b[0;34m()\u001b[0m\n",
      "File \u001b[0;32mpandas/_libs/hashtable_class_helper.pxi:7089\u001b[0m, in \u001b[0;36mpandas._libs.hashtable.PyObjectHashTable.get_item\u001b[0;34m()\u001b[0m\n",
      "\u001b[0;31mKeyError\u001b[0m: 'Species'",
      "\nThe above exception was the direct cause of the following exception:\n",
      "\u001b[0;31mKeyError\u001b[0m                                  Traceback (most recent call last)",
      "Cell \u001b[0;32mIn[11], line 2\u001b[0m\n\u001b[1;32m      1\u001b[0m api\u001b[38;5;241m.\u001b[39mone_hot_encode(inplace\u001b[38;5;241m=\u001b[39m\u001b[38;5;28;01mTrue\u001b[39;00m, ignore_target\u001b[38;5;241m=\u001b[39m\u001b[38;5;28;01mTrue\u001b[39;00m, target\u001b[38;5;241m=\u001b[39m\u001b[38;5;124m\"\u001b[39m\u001b[38;5;124mSpecies\u001b[39m\u001b[38;5;124m\"\u001b[39m)\n\u001b[0;32m----> 2\u001b[0m \u001b[38;5;28mprint\u001b[39m(api\u001b[38;5;241m.\u001b[39mlogistic_regression(\u001b[38;5;124m'\u001b[39m\u001b[38;5;124mSpecies\u001b[39m\u001b[38;5;124m'\u001b[39m, max_epochs\u001b[38;5;241m=\u001b[39m\u001b[38;5;241m700\u001b[39m))\n\u001b[1;32m      3\u001b[0m \u001b[38;5;28mprint\u001b[39m(api\u001b[38;5;241m.\u001b[39mlinear_regression(\u001b[38;5;124m'\u001b[39m\u001b[38;5;124mSpecies\u001b[39m\u001b[38;5;124m'\u001b[39m, max_epochs\u001b[38;5;241m=\u001b[39m\u001b[38;5;241m10\u001b[39m))\n",
      "File \u001b[0;32m~/Desktop/School/CollegeCode/COSC480/MLite/src/ML/ML_API.py:181\u001b[0m, in \u001b[0;36mMLAPI.logistic_regression\u001b[0;34m(self, label, lr, test_size, random_state, columns, max_epochs, verbose)\u001b[0m\n\u001b[1;32m    179\u001b[0m     y \u001b[38;5;241m=\u001b[39m \u001b[38;5;28mself\u001b[39m\u001b[38;5;241m.\u001b[39mdataset[\u001b[38;5;241m-\u001b[39m\u001b[38;5;241m1\u001b[39m]\n\u001b[1;32m    180\u001b[0m \u001b[38;5;28;01melse\u001b[39;00m:\n\u001b[0;32m--> 181\u001b[0m     y \u001b[38;5;241m=\u001b[39m \u001b[38;5;28mself\u001b[39m\u001b[38;5;241m.\u001b[39mdataset[label]\n\u001b[1;32m    183\u001b[0m \u001b[38;5;28;01mif\u001b[39;00m columns \u001b[38;5;241m==\u001b[39m \u001b[38;5;28;01mNone\u001b[39;00m:\n\u001b[1;32m    184\u001b[0m     \u001b[38;5;66;03m#assume all other columns and set X_columns to all features not label\u001b[39;00m\n\u001b[1;32m    185\u001b[0m     X_columns \u001b[38;5;241m=\u001b[39m [col \u001b[38;5;28;01mfor\u001b[39;00m col \u001b[38;5;129;01min\u001b[39;00m \u001b[38;5;28mself\u001b[39m\u001b[38;5;241m.\u001b[39mdataset\u001b[38;5;241m.\u001b[39mcolumns \u001b[38;5;28;01mif\u001b[39;00m label \u001b[38;5;129;01mnot\u001b[39;00m \u001b[38;5;129;01min\u001b[39;00m col]\n",
      "File \u001b[0;32m/opt/anaconda3/lib/python3.11/site-packages/pandas/core/frame.py:4102\u001b[0m, in \u001b[0;36mDataFrame.__getitem__\u001b[0;34m(self, key)\u001b[0m\n\u001b[1;32m   4100\u001b[0m \u001b[38;5;28;01mif\u001b[39;00m \u001b[38;5;28mself\u001b[39m\u001b[38;5;241m.\u001b[39mcolumns\u001b[38;5;241m.\u001b[39mnlevels \u001b[38;5;241m>\u001b[39m \u001b[38;5;241m1\u001b[39m:\n\u001b[1;32m   4101\u001b[0m     \u001b[38;5;28;01mreturn\u001b[39;00m \u001b[38;5;28mself\u001b[39m\u001b[38;5;241m.\u001b[39m_getitem_multilevel(key)\n\u001b[0;32m-> 4102\u001b[0m indexer \u001b[38;5;241m=\u001b[39m \u001b[38;5;28mself\u001b[39m\u001b[38;5;241m.\u001b[39mcolumns\u001b[38;5;241m.\u001b[39mget_loc(key)\n\u001b[1;32m   4103\u001b[0m \u001b[38;5;28;01mif\u001b[39;00m is_integer(indexer):\n\u001b[1;32m   4104\u001b[0m     indexer \u001b[38;5;241m=\u001b[39m [indexer]\n",
      "File \u001b[0;32m/opt/anaconda3/lib/python3.11/site-packages/pandas/core/indexes/base.py:3812\u001b[0m, in \u001b[0;36mIndex.get_loc\u001b[0;34m(self, key)\u001b[0m\n\u001b[1;32m   3807\u001b[0m     \u001b[38;5;28;01mif\u001b[39;00m \u001b[38;5;28misinstance\u001b[39m(casted_key, \u001b[38;5;28mslice\u001b[39m) \u001b[38;5;129;01mor\u001b[39;00m (\n\u001b[1;32m   3808\u001b[0m         \u001b[38;5;28misinstance\u001b[39m(casted_key, abc\u001b[38;5;241m.\u001b[39mIterable)\n\u001b[1;32m   3809\u001b[0m         \u001b[38;5;129;01mand\u001b[39;00m \u001b[38;5;28many\u001b[39m(\u001b[38;5;28misinstance\u001b[39m(x, \u001b[38;5;28mslice\u001b[39m) \u001b[38;5;28;01mfor\u001b[39;00m x \u001b[38;5;129;01min\u001b[39;00m casted_key)\n\u001b[1;32m   3810\u001b[0m     ):\n\u001b[1;32m   3811\u001b[0m         \u001b[38;5;28;01mraise\u001b[39;00m InvalidIndexError(key)\n\u001b[0;32m-> 3812\u001b[0m     \u001b[38;5;28;01mraise\u001b[39;00m \u001b[38;5;167;01mKeyError\u001b[39;00m(key) \u001b[38;5;28;01mfrom\u001b[39;00m \u001b[38;5;21;01merr\u001b[39;00m\n\u001b[1;32m   3813\u001b[0m \u001b[38;5;28;01mexcept\u001b[39;00m \u001b[38;5;167;01mTypeError\u001b[39;00m:\n\u001b[1;32m   3814\u001b[0m     \u001b[38;5;66;03m# If we have a listlike key, _check_indexing_error will raise\u001b[39;00m\n\u001b[1;32m   3815\u001b[0m     \u001b[38;5;66;03m#  InvalidIndexError. Otherwise we fall through and re-raise\u001b[39;00m\n\u001b[1;32m   3816\u001b[0m     \u001b[38;5;66;03m#  the TypeError.\u001b[39;00m\n\u001b[1;32m   3817\u001b[0m     \u001b[38;5;28mself\u001b[39m\u001b[38;5;241m.\u001b[39m_check_indexing_error(key)\n",
      "\u001b[0;31mKeyError\u001b[0m: 'Species'"
     ]
    }
   ],
   "source": [
    "api.one_hot_encode(inplace=True, ignore_target=True, target=\"Species\")\n",
    "print(api.logistic_regression('Species', max_epochs=700))\n",
    "print(api.linear_regression('Species', max_epochs=10))"
   ]
  },
  {
   "cell_type": "code",
   "execution_count": 12,
   "id": "7530bc78-e1c4-46d8-9d45-31315f70e68d",
   "metadata": {},
   "outputs": [
    {
     "name": "stdout",
     "output_type": "stream",
     "text": [
      "[NbConvertApp] Converting notebook ML_test.ipynb to script\n",
      "[NbConvertApp] Writing 1519 bytes to ML_test.py\n"
     ]
    }
   ],
   "source": [
    "!jupyter nbconvert --to script 'ML_test.ipynb'"
   ]
  },
  {
   "cell_type": "code",
   "execution_count": null,
   "id": "b988d592-22bb-43d0-8cd4-05e36457e5d4",
   "metadata": {},
   "outputs": [],
   "source": []
  }
 ],
 "metadata": {
  "kernelspec": {
   "display_name": "Python 3 (ipykernel)",
   "language": "python",
   "name": "python3"
  },
  "language_info": {
   "codemirror_mode": {
    "name": "ipython",
    "version": 3
   },
   "file_extension": ".py",
   "mimetype": "text/x-python",
   "name": "python",
   "nbconvert_exporter": "python",
   "pygments_lexer": "ipython3",
   "version": "3.11.7"
  }
 },
 "nbformat": 4,
 "nbformat_minor": 5
}
