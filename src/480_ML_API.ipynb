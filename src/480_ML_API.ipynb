{
  "nbformat": 4,
  "nbformat_minor": 0,
  "metadata": {
    "colab": {
      "provenance": [],
      "machine_shape": "hm",
      "gpuType": "L4"
    },
    "kernelspec": {
      "name": "python3",
      "display_name": "Python 3"
    },
    "language_info": {
      "name": "python"
    },
    "accelerator": "GPU"
  },
  "cells": [
    {
      "cell_type": "code",
      "execution_count": 1,
      "metadata": {
        "id": "VJUb_7D2TerM"
      },
      "outputs": [],
      "source": [
        "import torch\n",
        "gpu_info = !nvidia-smi\n",
        "gpu_info = '\\n'.join(gpu_info)\n",
        "if gpu_info.find('failed') >= 0:\n",
        "  print('Not connected to a GPU')\n",
        "else:\n",
        "  device = torch.device('cuda:0')"
      ]
    },
    {
      "cell_type": "code",
      "source": [],
      "metadata": {
        "id": "EAKwFe1mTfqp"
      },
      "execution_count": null,
      "outputs": []
    }
  ]
}